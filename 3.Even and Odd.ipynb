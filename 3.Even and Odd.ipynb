{
 "cells": [
  {
   "cell_type": "code",
   "execution_count": null,
   "metadata": {},
   "outputs": [],
   "source": [
    "print(\"The Numbers are : 1,2,3,4,5,6,7,8,9\")\n",
    "numbers = 1,2,3,4,5,6,7,8,9\n",
    "count_even = 0\n",
    "count_odd = 0\n",
    "for i in numbers:\n",
    "    if not i%2:\n",
    "        count_even+=1\n",
    "    else:\n",
    "        count_odd+=1\n",
    "print(\"Number of Even Numbers :\",count_even) \n",
    "print(\"Number of Odd Numbers :\",count_odd) \n",
    "                     "
   ]
  }
 ],
 "metadata": {
  "kernelspec": {
   "display_name": "Python 3",
   "language": "python",
   "name": "python3"
  },
  "language_info": {
   "codemirror_mode": {
    "name": "ipython",
    "version": 3
   },
   "file_extension": ".py",
   "mimetype": "text/x-python",
   "name": "python",
   "nbconvert_exporter": "python",
   "pygments_lexer": "ipython3",
   "version": "3.11.0 (main, Oct 24 2022, 18:26:48) [MSC v.1933 64 bit (AMD64)]"
  },
  "orig_nbformat": 4,
  "vscode": {
   "interpreter": {
    "hash": "3d53cc3af682315c93049f793831f6a6a5eec26e3294cf47223004b97a69556a"
   }
  }
 },
 "nbformat": 4,
 "nbformat_minor": 2
}
